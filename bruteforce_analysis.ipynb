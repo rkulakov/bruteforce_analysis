{
 "cells": [
  {
   "cell_type": "code",
   "execution_count": 38,
   "metadata": {
    "collapsed": false,
    "deletable": true,
    "editable": true
   },
   "outputs": [],
   "source": [
    "import os\n",
    "import re\n",
    "import hdbscan\n",
    "import random\n",
    "import numpy as np\n",
    "import matplotlib.pyplot as pl"
   ]
  },
  {
   "cell_type": "code",
   "execution_count": 128,
   "metadata": {
    "collapsed": true,
    "deletable": true,
    "editable": true
   },
   "outputs": [],
   "source": [
    "from sklearn import preprocessing\n",
    "from datetime import datetime\n",
    "from sklearn.cluster import DBSCAN\n",
    "from sklearn.manifold import TSNE\n",
    "from sklearn.ensemble import RandomForestClassifier"
   ]
  },
  {
   "cell_type": "code",
   "execution_count": 2,
   "metadata": {
    "collapsed": true,
    "deletable": true,
    "editable": true
   },
   "outputs": [],
   "source": [
    "def entropy(text): # Функция вычисления энтропии у строки, чем больше одинаковых символов, тем она ниже\n",
    "    text = str(text)\n",
    "    prob = [0.0]*256\n",
    "    l = len(text)\n",
    "    ent = 0.0\n",
    "    \n",
    "    for i in text:\n",
    "        prob[ord(i)] += 1.0\n",
    "    for i in prob:\n",
    "        if i > 0.0:\n",
    "            ent += (i/l)*np.log(i/l)\n",
    "    ent = -1.0*ent\n",
    "    return ent\n",
    "\n",
    "def mean_entropy(group_list): # Усредненная энтропия для группы id'шников\n",
    "    group_dist = []\n",
    "    for i in group_list:\n",
    "        group_dist.append(entropy(i))\n",
    "    return np.mean(group_dist)\n",
    "\n",
    "def success_rate(ip_results):\n",
    "    n = len(ip_results)\n",
    "    rate = float(len([res for res in ip_results if res == 'SUCCESS']))/n\n",
    "    return rate\n",
    "\n",
    "def id_success_rate(user_ids,treshold=0.5):\n",
    "    rate = 0.0\n",
    "    n = len(user_ids.keys())\n",
    "    \n",
    "    for id_ in user_ids:\n",
    "        if float(user_ids[id_][0])/(user_ids[id_][0]+user_ids[id_][1]) >= treshold:\n",
    "            rate += 1.0\n",
    "            \n",
    "    return rate / n \n",
    "\n",
    "def avg_time(ip_dates, max_delta_time=86400,treshold=0.8): # Среднее время между запросами в секундах\n",
    "    n = len(ip_dates)\n",
    "    if n < 2:\n",
    "        return max_delta_time\n",
    "    \n",
    "    time_deltas = sorted([(ip_dates[i]-ip_dates[i-1]).total_seconds() for i in xrange(1,n)])\n",
    "    avg_time = np.mean(time_deltas)\n",
    "    \n",
    "    for i in xrange(int(n-1.0),int(treshold*n_results)):\n",
    "        new_avg_time = np.mean(time_deltas[:i])\n",
    "        if np.abs(new_avg_time - avg_time) > time_eps:\n",
    "            avg_time = new_avg_time\n",
    "    \n",
    "    return avg_time\n",
    "\n",
    "def avg_hours(ip_dates, treshold=3):\n",
    "    n = len(ip_dates)\n",
    "    if n < 2:\n",
    "        return 0.0\n",
    "    \n",
    "    active_hours = []\n",
    "    time_pointer = 0\n",
    "    time_current_pos = 0    \n",
    "    \n",
    "    while time_current_pos < n:\n",
    "        while time_current_pos < n and (ip_dates[time_current_pos] - ip_dates[time_pointer]).days < 1:\n",
    "            time_current_pos += 1\n",
    "        \n",
    "        total_hours = 0.0\n",
    "        list_of_hours = [t.hour for t in ip_dates[time_pointer:time_current_pos]]\n",
    "        for hour in set(list_of_hours):\n",
    "            if list_of_hours.count(hour) > treshold:\n",
    "                total_hours += 1.0\n",
    "        \n",
    "        active_hours.append(total_hours)\n",
    "        time_pointer = time_current_pos\n",
    "                         \n",
    "    avg_hours = np.mean(active_hours)\n",
    "    return avg_hours\n",
    "    "
   ]
  },
  {
   "cell_type": "markdown",
   "metadata": {
    "deletable": true,
    "editable": true
   },
   "source": [
    "### Парсим логи, собираем данные"
   ]
  },
  {
   "cell_type": "code",
   "execution_count": 4,
   "metadata": {
    "collapsed": false,
    "deletable": true,
    "editable": true
   },
   "outputs": [
    {
     "name": "stdout",
     "output_type": "stream",
     "text": [
      "Ошибка в строке: AUTH FAILED 2017-\n",
      "Всего в наборе 22995 различных ip адресов\n"
     ]
    }
   ],
   "source": [
    "data_file = \"collection.dat\"\n",
    "record_re = re.compile(r\"^(?:\\s*AUTH)\\s(\\w+)\\s(\\d{4}-\\d{2}-\\d{2}\\s\\d{2}:\\d{2}:\\d{2})\\s(\\d+)\\s(\\d{1,3}.\\d{1,3}.\\d{1,3}.\\d{1,3})$\")\n",
    "# AUTH FAILED 2017-06-07 21:00:43 41.6.25.31\n",
    "\n",
    "auth_data = []\n",
    "with open(data_file,\"r\") as f:\n",
    "    for line in f:\n",
    "        try:\n",
    "            res = re.findall(record_re,line)[0]\n",
    "        except:\n",
    "            print \"Ошибка в строке: %s\"%(line)\n",
    "            continue\n",
    "        \n",
    "        result, date, user_id,ip_addr = res\n",
    "        date = datetime.strptime(date, '%Y-%m-%d %H:%M:%S')\n",
    "        auth_data.append((result,date,user_id,ip_addr))\n",
    "\n",
    "auth_data = tuple(auth_data)\n",
    "\n",
    "distinct_ips = set([rec[-1] for rec in auth_data])\n",
    "print \"Всего в наборе %d различных ip адресов\"%(len(distinct_ips))"
   ]
  },
  {
   "cell_type": "markdown",
   "metadata": {
    "deletable": true,
    "editable": true
   },
   "source": [
    "### Сделаем все данные о конкретном ip доступными по словарю"
   ]
  },
  {
   "cell_type": "code",
   "execution_count": 5,
   "metadata": {
    "collapsed": true,
    "deletable": true,
    "editable": true
   },
   "outputs": [],
   "source": [
    "ip_records = dict()\n",
    "for ip in distinct_ips:\n",
    "    ip_records[ip] = []\n",
    "    \n",
    "for rec in auth_data:\n",
    "    ip_records[rec[-1]].append(rec[:-1])\n",
    "    "
   ]
  },
  {
   "cell_type": "markdown",
   "metadata": {
    "deletable": true,
    "editable": true
   },
   "source": [
    "### На основе полученных данных вычислим следующие признаки:<br>\n",
    "1) Среднюю энтропию для группы id'шников<br>\n",
    "2) Рейт $successes/(successes+fails)$ <br>\n",
    "3) Логарифм общего числа попыток <br>\n",
    "4) Рейт по $user\\_id$ <br>\n",
    "5) Среднее время между попытками <br>\n",
    "6) Среднее количество активных часов в сутки <br>\n"
   ]
  },
  {
   "cell_type": "code",
   "execution_count": 95,
   "metadata": {
    "collapsed": true,
    "deletable": true,
    "editable": true
   },
   "outputs": [],
   "source": [
    "feature_names = [\"Усредненная энтропия номеров\",\n",
    "                 \"Рейт\",\n",
    "                 \"Логарифм общего числа запросов\",\n",
    "                 \"Рейт по аккаунтам\",\n",
    "                 \"Среднее время между запросами\",\n",
    "                 \"Количество активных часов\"]\n",
    "\n",
    "feature_names_e = [\"Mean entropy\",\n",
    "                   \"Rate\",\n",
    "                   \"Log requests\",\n",
    "                   \"ID Rate\",\n",
    "                   \"Average delta time\",\n",
    "                   \"Active hours\"]"
   ]
  },
  {
   "cell_type": "code",
   "execution_count": 92,
   "metadata": {
    "collapsed": false,
    "deletable": true,
    "editable": true
   },
   "outputs": [],
   "source": [
    "ip_data = []\n",
    "ip_ids  = dict()\n",
    "\n",
    "treshold_for_ids = 0.5\n",
    "time_eps = 1.0\n",
    "time_percentage = 0.80\n",
    "\n",
    "for ip in distinct_ips:\n",
    "    ip_record = ip_records[ip]\n",
    "    n_results = len(ip_record)\n",
    "    \n",
    "    ip_user_ids = set([rec[2] for rec in ip_record])\n",
    "    ip_dates = sorted([rec[1] for rec in ip_record])\n",
    "    ip_results = [rec[0] for rec in ip_record]\n",
    "    \n",
    "    user_ids = dict()\n",
    "    for id_ in ip_user_ids:\n",
    "        user_ids[id_] = [0.0,0.0]\n",
    "        \n",
    "    for rec in ip_record:\n",
    "        if rec[0] == 'SUCCESS':\n",
    "            user_ids[rec[2]][0] += 1.0\n",
    "        else:\n",
    "            user_ids[rec[2]][1] += 1.0\n",
    "            \n",
    "    ip_ids[ip] = user_ids  \n",
    "    \n",
    "    all_attempts_log = np.log(n_results)\n",
    "    rec = (ip,\n",
    "           mean_entropy(ip_user_ids),\n",
    "           success_rate(ip_results),\n",
    "           float(all_attempts_log),\n",
    "           id_success_rate(user_ids),\n",
    "           avg_time(ip_dates),\n",
    "           avg_hours(ip_dates))\n",
    "    \n",
    "    ip_data.append(rec)  "
   ]
  },
  {
   "cell_type": "code",
   "execution_count": 94,
   "metadata": {
    "collapsed": false,
    "deletable": true,
    "editable": true
   },
   "outputs": [],
   "source": [
    "data_set = np.array(np.array(ip_data)[:,1:],dtype='float') # Костыль"
   ]
  },
  {
   "cell_type": "markdown",
   "metadata": {
    "deletable": true,
    "editable": true
   },
   "source": [
    "### Стандартизируем данные <br>\n",
    "Это должно сделать их более независимыми от длительности промежутка времени, в котором мы их рассматриваем"
   ]
  },
  {
   "cell_type": "code",
   "execution_count": 96,
   "metadata": {
    "collapsed": true,
    "deletable": true,
    "editable": true
   },
   "outputs": [],
   "source": [
    "scaler = preprocessing.StandardScaler().fit(data_set)\n",
    "data_set = scaler.transform(data_set)"
   ]
  },
  {
   "cell_type": "markdown",
   "metadata": {
    "deletable": true,
    "editable": true
   },
   "source": [
    "### Кластеризуем данные с помошью DBSCAN <br>\n",
    "В принципе, можно использовать и другие алгоритмы, такие как <b>*OPTICS*</b>, различные расширения <b>*DBSCAN*</b> (<b>*FS-DBSCAN*</b>, <b>*GDBSCAN*</b>). Однако, производительность их реализация на Python довольно средняя; либо же их реализации вообще нет, и придется писать алгоритм самому. Хотя <b>*DBSCAN*</b> плохо обрабатывает кластера с различной плотностью, на практике он может показать приемлемые результаты. Есть еще новый алгоритм <b>*HDBSCAN*</b>, но для данной задачи он не подошел - оставляет много точек нераспределенными. \n"
   ]
  },
  {
   "cell_type": "code",
   "execution_count": 97,
   "metadata": {
    "collapsed": false,
    "deletable": true,
    "editable": true,
    "scrolled": true
   },
   "outputs": [
    {
     "name": "stdout",
     "output_type": "stream",
     "text": [
      "Минимальный размер кластера: 20\n",
      "Эпсилон: 0.200000\n",
      "Получилось 8 кластеров\n",
      "2.522287 процентов неопределено\n",
      "\n",
      "Минимальный размер кластера: 25\n",
      "Эпсилон: 0.200000\n",
      "Получилось 8 кластеров\n",
      "2.700587 процентов неопределено\n",
      "\n",
      "Минимальный размер кластера: 20\n",
      "Эпсилон: 0.250000\n",
      "Получилось 8 кластеров\n",
      "2.522287 процентов неопределено\n",
      "\n",
      "Минимальный размер кластера: 25\n",
      "Эпсилон: 0.250000\n",
      "Получилось 8 кластеров\n",
      "2.700587 процентов неопределено\n",
      "\n",
      "Минимальный размер кластера: 20\n",
      "Эпсилон: 0.300000\n",
      "Получилось 8 кластеров\n",
      "2.522287 процентов неопределено\n",
      "\n",
      "Минимальный размер кластера: 25\n",
      "Эпсилон: 0.300000\n",
      "Получилось 8 кластеров\n",
      "2.700587 процентов неопределено\n",
      "\n",
      "Минимальный размер кластера: 20\n",
      "Эпсилон: 0.350000\n",
      "Получилось 8 кластеров\n",
      "2.522287 процентов неопределено\n",
      "\n",
      "Минимальный размер кластера: 25\n",
      "Эпсилон: 0.350000\n",
      "Получилось 8 кластеров\n",
      "2.700587 процентов неопределено\n",
      "\n",
      "Минимальный размер кластера: 20\n",
      "Эпсилон: 0.400000\n",
      "Получилось 8 кластеров\n",
      "2.522287 процентов неопределено\n",
      "\n",
      "Минимальный размер кластера: 25\n",
      "Эпсилон: 0.400000\n",
      "Получилось 8 кластеров\n",
      "2.700587 процентов неопределено\n",
      "\n",
      "Минимальный размер кластера: 20\n",
      "Эпсилон: 0.450000\n",
      "Получилось 8 кластеров\n",
      "2.522287 процентов неопределено\n",
      "\n",
      "Минимальный размер кластера: 25\n",
      "Эпсилон: 0.450000\n",
      "Получилось 8 кластеров\n",
      "2.700587 процентов неопределено\n",
      "\n"
     ]
    }
   ],
   "source": [
    "for d in np.linspace(0.20,0.45,6):\n",
    "    for i in xrange(20,30,5):\n",
    "        db_scan = DBSCAN(min_samples=i,eps=0.40,algorithm='kd_tree').fit(data_set)\n",
    "        undefined = float(sum([1 for j in xrange(0,len(db_scan.labels_)) if db_scan.labels_[j] == -1]))\n",
    "        print \"Минимальный размер кластера: %d\\nЭпсилон: %f\\nПолучилось %d кластеров\" % (i,d,len(set(db_scan.labels_)))\n",
    "        print \"%f процентов неопределено\\n\"%(100.0*undefined/len(data_set))"
   ]
  },
  {
   "cell_type": "code",
   "execution_count": 98,
   "metadata": {
    "collapsed": false,
    "deletable": true,
    "editable": true
   },
   "outputs": [],
   "source": [
    "db_scan = DBSCAN(min_samples=20,eps=0.4).fit(data_set)\n",
    "unique_labels = set(db_scan.labels_)"
   ]
  },
  {
   "cell_type": "code",
   "execution_count": 99,
   "metadata": {
    "collapsed": false,
    "deletable": true,
    "editable": true
   },
   "outputs": [],
   "source": [
    "cluster_ips = dict()\n",
    "cluster_ips_data = dict()\n",
    "cluster_ips_data_scaled = dict()\n",
    "\n",
    "for i in unique_labels:\n",
    "    cluster_ips[i] = list()\n",
    "    cluster_ips_data[i] = list()\n",
    "    cluster_ips_data_scaled[i] = list()\n",
    "\n",
    "for i in xrange(0,len(ip_data)):\n",
    "    cluster_ips[db_scan.labels_[i]].append(ip_data[i][0])\n",
    "    cluster_ips_data[db_scan.labels_[i]].append(ip_data[i][1:])\n",
    "    cluster_ips_data_scaled[db_scan.labels_[i]].append(data_set[i])"
   ]
  },
  {
   "cell_type": "markdown",
   "metadata": {
    "deletable": true,
    "editable": true
   },
   "source": [
    "### Визуализируем результаты по двум фичам с наибольшей дисперсией"
   ]
  },
  {
   "cell_type": "code",
   "execution_count": 100,
   "metadata": {
    "collapsed": false,
    "deletable": true,
    "editable": true
   },
   "outputs": [
    {
     "data": {
      "image/png": "[encoded data removed]",
      "text/plain": [
       "<matplotlib.figure.Figure at 0x7f96f2aeedd0>"
      ]
     },
     "metadata": {},
     "output_type": "display_data"
    },
    {
     "data": {
      "image/png": "[encoded data removed]",
      "text/plain": [
       "<matplotlib.figure.Figure at 0x7f96f8e0ca50>"
      ]
     },
     "metadata": {},
     "output_type": "display_data"
    },
    {
     "data": {
      "image/png": "[encoded data removed]",
      "text/plain": [
       "<matplotlib.figure.Figure at 0x7f96fabe9810>"
      ]
     },
     "metadata": {},
     "output_type": "display_data"
    },
    {
     "data": {
      "image/png": "[encoded data removed]",
      "text/plain": [
       "<matplotlib.figure.Figure at 0x7f96fb2b0510>"
      ]
     },
     "metadata": {},
     "output_type": "display_data"
    },
    {
     "data": {
      "image/png": "[encoded data removed]",
      "text/plain": [
       "<matplotlib.figure.Figure at 0x7f96fade8690>"
      ]
     },
     "metadata": {},
     "output_type": "display_data"
    },
    {
     "data": {
      "image/png": "[encoded data removed]",
      "text/plain": [
       "<matplotlib.figure.Figure at 0x7f96f87f5fd0>"
      ]
     },
     "metadata": {},
     "output_type": "display_data"
    },
    {
     "data": {
      "image/png": "[encoded data removed]",
      "text/plain": [
       "<matplotlib.figure.Figure at 0x7f96f2500f90>"
      ]
     },
     "metadata": {},
     "output_type": "display_data"
    },
    {
     "data": {
      "image/png": "[encoded data removed]",
      "text/plain": [
       "<matplotlib.figure.Figure at 0x7f96fb0e5450>"
      ]
     },
     "metadata": {},
     "output_type": "display_data"
    }
   ],
   "source": [
    "n_features = len(feature_names)\n",
    "\n",
    "for label in unique_labels:\n",
    "    var = np.var(cluster_ips_data_scaled[label],axis=0)\n",
    "    \n",
    "    res = sorted(zip(var,xrange(0,len(feature_names))),key=lambda x: x[0],reverse=True)[:2]\n",
    "    \n",
    "    num1 = res[0][1]\n",
    "    num2 = res[1][1]\n",
    "    \n",
    "    fig, ax = pl.subplots()\n",
    "    pl.scatter(np.array(cluster_ips_data_scaled[label])[:,num1],\n",
    "               np.array(cluster_ips_data_scaled[label])[:,num2])\n",
    "    \n",
    "    ax.set_title('Label %s'%(label))\n",
    "    pl.xlabel(feature_names_e[num1])\n",
    "    pl.ylabel(feature_names_e[num2])\n",
    "    pl.show()"
   ]
  },
  {
   "cell_type": "markdown",
   "metadata": {
    "deletable": true,
    "editable": true
   },
   "source": [
    "### Для лучшего понимания взаимного расположения кластеров, визуализируем данные с помощью алгоритма TSNE"
   ]
  },
  {
   "cell_type": "code",
   "execution_count": null,
   "metadata": {
    "collapsed": false,
    "deletable": true,
    "editable": true
   },
   "outputs": [],
   "source": [
    "tsne = TSNE(n_components=2,perplexity=50)\n",
    "transformed_data = tsne.fit_transform(data_set)"
   ]
  },
  {
   "cell_type": "code",
   "execution_count": null,
   "metadata": {
    "collapsed": false,
    "deletable": true,
    "editable": true
   },
   "outputs": [],
   "source": [
    "pl.scatter(np.array(transformed_data)[:,0],np.array(transformed_data)[:,1],c=db_scan.labels_,alpha=1)\n",
    "pl.show()"
   ]
  },
  {
   "cell_type": "markdown",
   "metadata": {
    "deletable": true,
    "editable": true
   },
   "source": [
    "### Выведем общую информацию о полученных кластерах"
   ]
  },
  {
   "cell_type": "code",
   "execution_count": 101,
   "metadata": {
    "collapsed": false,
    "deletable": true,
    "editable": true,
    "scrolled": true
   },
   "outputs": [
    {
     "name": "stdout",
     "output_type": "stream",
     "text": [
      "Метка: 0\n",
      "Процент от общего числа данных: 0.569820\n",
      "Процент всех запросов по авторизациям: 0.069097\n",
      "Средние занчение параметров по классу:\n",
      "Усредненная энтропия номеров : 1.691599\n",
      "Рейт : 0.998897\n",
      "Логарифм общего числа запросов : 1.594650\n",
      "Рейт по аккаунтам : 0.999568\n",
      "Среднее время между запросами : 36464.472772\n",
      "Количество активных часов : 0.166253\n",
      "\n",
      "\n",
      "Метка: 1\n",
      "Процент от общего числа данных: 0.356077\n",
      "Процент всех запросов по авторизациям: 0.004508\n",
      "Средние занчение параметров по классу:\n",
      "Усредненная энтропия номеров : 1.777224\n",
      "Рейт : 1.000000\n",
      "Логарифм общего числа запросов : 0.000000\n",
      "Рейт по аккаунтам : 1.000000\n",
      "Среднее время между запросами : 86400.000000\n",
      "Количество активных часов : 0.000000\n",
      "\n",
      "\n",
      "Метка: 2\n",
      "Процент от общего числа данных: 0.026310\n",
      "Процент всех запросов по авторизациям: 0.699563\n",
      "Средние занчение параметров по классу:\n",
      "Усредненная энтропия номеров : 0.649478\n",
      "Рейт : 0.000324\n",
      "Логарифм общего числа запросов : 7.495381\n",
      "Рейт по аккаунтам : 0.000580\n",
      "Среднее время между запросами : 161.813175\n",
      "Количество активных часов : 18.211543\n",
      "\n",
      "\n",
      "Метка: 3\n",
      "Процент от общего числа данных: 0.003740\n",
      "Процент всех запросов по авторизациям: 0.005588\n",
      "Средние занчение параметров по классу:\n",
      "Усредненная энтропия номеров : 1.239525\n",
      "Рейт : 0.000000\n",
      "Логарифм общего числа запросов : 4.645531\n",
      "Рейт по аккаунтам : 0.000000\n",
      "Среднее время между запросами : 237.842688\n",
      "Количество активных часов : 2.990310\n",
      "\n",
      "\n",
      "Метка: 4\n",
      "Процент от общего числа данных: 0.015308\n",
      "Процент всех запросов по авторизациям: 0.054139\n",
      "Средние занчение параметров по классу:\n",
      "Усредненная энтропия номеров : 0.628245\n",
      "Рейт : 0.000123\n",
      "Логарифм общего числа запросов : 5.522616\n",
      "Рейт по аккаунтам : 0.000124\n",
      "Среднее время между запросами : 257.735890\n",
      "Количество активных часов : 4.364347\n",
      "\n",
      "\n",
      "Метка: 5\n",
      "Процент от общего числа данных: 0.001218\n",
      "Процент всех запросов по авторизациям: 0.000015\n",
      "Средние занчение параметров по классу:\n",
      "Усредненная энтропия номеров : 2.197225\n",
      "Рейт : 1.000000\n",
      "Логарифм общего числа запросов : 0.000000\n",
      "Рейт по аккаунтам : 1.000000\n",
      "Среднее время между запросами : 86400.000000\n",
      "Количество активных часов : 0.000000\n",
      "\n",
      "\n",
      "Метка: 6\n",
      "Процент от общего числа данных: 0.002305\n",
      "Процент всех запросов по авторизациям: 0.000554\n",
      "Средние занчение параметров по классу:\n",
      "Усредненная энтропия номеров : 0.620507\n",
      "Рейт : 0.000000\n",
      "Логарифм общего числа запросов : 2.890465\n",
      "Рейт по аккаунтам : 0.000000\n",
      "Среднее время между запросами : 1934.984145\n",
      "Количество активных часов : 2.132075\n",
      "\n",
      "\n",
      "Метка: -1\n",
      "Процент от общего числа данных: 0.025223\n",
      "Процент всех запросов по авторизациям: 0.166535\n",
      "Средние занчение параметров по классу:\n",
      "Усредненная энтропия номеров : 1.432978\n",
      "Рейт : 0.673595\n",
      "Логарифм общего числа запросов : 3.530067\n",
      "Рейт по аккаунтам : 0.685106\n",
      "Среднее время между запросами : 30286.709326\n",
      "Количество активных часов : 2.899109\n",
      "\n",
      "\n"
     ]
    }
   ],
   "source": [
    "n_features = len(feature_names)\n",
    "\n",
    "for label in unique_labels:\n",
    "    print \"Метка: %d\"%(label)\n",
    "    print \"Процент от общего числа данных: %f\"%(float(len(cluster_ips[label]))/len(ip_data))\n",
    "    print \"Процент всех запросов по авторизациям: %f\"%(1.0*sum([len(ip_records[ip]) for ip in cluster_ips[label]])/len(auth_data)) \n",
    "        \n",
    "    print \"Средние занчение параметров по классу:\"\n",
    "    mean_values = np.mean(np.array(cluster_ips_data[label]),axis=0)\n",
    "    for i in xrange(0,n_features):\n",
    "        print \"%s : %f\"%(feature_names[i],mean_values[i])\n",
    "    print \"\\n\"\n",
    "    "
   ]
  },
  {
   "cell_type": "markdown",
   "metadata": {
    "deletable": true,
    "editable": true
   },
   "source": [
    "### Более подробный анализ:\n",
    "Исходя из предыдущих результатов, наибольший интерес представляет метка #2, <br>\n",
    "У неё низкий рейт и очень большой процент всех запросов по авторизациям <br>\n",
    "Хотя метки 3, 4 и 6 тоже являются подозрительными, здесь я их рассматривать не буду,<br>\n",
    "все действия будут точно такими же, как и для метки 2"
   ]
  },
  {
   "cell_type": "code",
   "execution_count": 102,
   "metadata": {
    "collapsed": true,
    "deletable": true,
    "editable": true
   },
   "outputs": [],
   "source": [
    "bruter_ips = cluster_ips[2]\n",
    "n_bruters = len(bruter_ips)"
   ]
  },
  {
   "cell_type": "code",
   "execution_count": 103,
   "metadata": {
    "collapsed": false,
    "deletable": true,
    "editable": true
   },
   "outputs": [
    {
     "name": "stdout",
     "output_type": "stream",
     "text": [
      "IP: 41.91.84.15\n",
      "ID \tSUCCESSES\tFAILS\n",
      "9999922  \t0\t1\t\n",
      "117771  \t0\t1\t\n",
      "6666556  \t0\t1\t\n",
      "9999929  \t0\t1\t\n",
      "889889  \t0\t1\t\n",
      "634777  \t0\t8\t\n",
      "2121221  \t0\t1\t\n",
      "5558558  \t0\t1\t\n",
      "3335355  \t0\t1\t\n",
      "220000  \t0\t1\t\n",
      "9595955  \t0\t1\t\n",
      "7447747  \t0\t1\t\n",
      "2255522  \t0\t1\t\n",
      "9555995  \t0\t1\t\n",
      "9499994  \t0\t1\t\n",
      "1661611  \t0\t1\t\n",
      "214777  \t0\t4\t\n",
      "563999  \t0\t6\t\n",
      "5858588  \t0\t1\t\n",
      "919191  \t0\t1\t\n",
      "\n",
      "\n",
      "IP: 237.164.74.156\n",
      "ID \tSUCCESSES\tFAILS\n",
      "5559955  \t0\t4\t\n",
      "9998989  \t0\t2\t\n",
      "634777  \t0\t18\t\n",
      "110001  \t0\t1\t\n",
      "4499994  \t0\t1\t\n",
      "9999929  \t0\t1\t\n",
      "888585  \t0\t1\t\n",
      "131113  \t0\t1\t\n",
      "131111  \t0\t1\t\n",
      "6666555  \t0\t1\t\n",
      "224422  \t0\t1\t\n",
      "999988  \t0\t1\t\n",
      "151551  \t0\t1\t\n",
      "5544445  \t0\t1\t\n",
      "522555  \t0\t3\t\n",
      "666646  \t0\t1\t\n",
      "1122112  \t0\t1\t\n",
      "666644  \t0\t1\t\n",
      "244244  \t0\t1\t\n",
      "4949949  \t0\t2\t\n",
      "\n",
      "\n",
      "IP: 36.5.185.144\n",
      "ID \tSUCCESSES\tFAILS\n",
      "9998989  \t0\t1\t\n",
      "9999922  \t0\t1\t\n",
      "338333  \t0\t3\t\n",
      "4499999  \t0\t1\t\n",
      "6600000  \t0\t1\t\n",
      "634777  \t0\t13\t\n",
      "338338  \t0\t2\t\n",
      "131111  \t0\t2\t\n",
      "717777  \t0\t1\t\n",
      "4044404  \t0\t1\t\n",
      "422242  \t0\t1\t\n",
      "224424  \t0\t1\t\n",
      "1188118  \t0\t1\t\n",
      "224422  \t0\t1\t\n",
      "1155155  \t0\t1\t\n",
      "101010  \t0\t1\t\n",
      "6666006  \t0\t1\t\n",
      "3336633  \t0\t2\t\n",
      "3336636  \t0\t1\t\n",
      "776667  \t0\t1\t\n",
      "\n",
      "\n",
      "IP: 215.255.223.237\n",
      "ID \tSUCCESSES\tFAILS\n",
      "5559955  \t0\t2\t\n",
      "9998989  \t0\t1\t\n",
      "9999922  \t0\t1\t\n",
      "110000  \t0\t1\t\n",
      "110001  \t0\t1\t\n",
      "5559959  \t0\t1\t\n",
      "634777  \t0\t2\t\n",
      "9999696  \t0\t1\t\n",
      "4044404  \t0\t1\t\n",
      "224424  \t0\t1\t\n",
      "151555  \t0\t1\t\n",
      "151551  \t0\t1\t\n",
      "3336633  \t0\t1\t\n",
      "776667  \t0\t1\t\n",
      "2999229  \t0\t1\t\n",
      "522555  \t0\t1\t\n",
      "333030  \t0\t1\t\n",
      "1122112  \t0\t1\t\n",
      "7777797  \t0\t1\t\n",
      "2999222  \t0\t1\t\n",
      "\n",
      "\n",
      "IP: 59.246.30.12\n",
      "ID \tSUCCESSES\tFAILS\n",
      "2232222  \t0\t1\t\n",
      "9999696  \t0\t1\t\n",
      "110001  \t0\t1\t\n",
      "4499994  \t0\t1\t\n",
      "911111  \t0\t1\t\n",
      "355353  \t0\t1\t\n",
      "889888  \t0\t1\t\n",
      "888585  \t0\t1\t\n",
      "2424244  \t0\t1\t\n",
      "5755755  \t0\t1\t\n",
      "554455  \t0\t2\t\n",
      "554454  \t0\t1\t\n",
      "422442  \t0\t1\t\n",
      "7999999  \t0\t1\t\n",
      "7770000  \t0\t1\t\n",
      "9555559  \t0\t1\t\n",
      "9990900  \t0\t1\t\n",
      "3335353  \t0\t1\t\n",
      "4044400  \t0\t2\t\n",
      "999969  \t0\t1\t\n",
      "\n",
      "\n"
     ]
    }
   ],
   "source": [
    "n_samles_to_analys = 5\n",
    "max_values = 20\n",
    "\n",
    "indexes = [random.randint(0,n_bruters) for i in xrange(0,n_samles_to_analys)]\n",
    "for i in indexes:\n",
    "    ip = bruter_ips[i]\n",
    "    count = max_values\n",
    "    print \"IP: %s\"%(ip)\n",
    "    print \"ID \\tSUCCESSES\\tFAILS\"\n",
    "    for user_id in ip_ids[ip]:\n",
    "        print \"%s  \\t%d\\t%d\\t\"%(str(user_id),\n",
    "                                ip_ids[ip][user_id][0],\n",
    "                                ip_ids[ip][user_id][1])\n",
    "        count -= 1\n",
    "        if count == 0:\n",
    "            break\n",
    "            \n",
    "    print \"\\n\"\n",
    "    "
   ]
  },
  {
   "cell_type": "markdown",
   "metadata": {
    "deletable": true,
    "editable": true
   },
   "source": [
    "### Посмотрим, какие параметры оказались наиболее важными для выявляения брутфорсеров"
   ]
  },
  {
   "cell_type": "code",
   "execution_count": 116,
   "metadata": {
    "collapsed": false,
    "deletable": true,
    "editable": true
   },
   "outputs": [
    {
     "name": "stdout",
     "output_type": "stream",
     "text": [
      "Количество активных часов имеет занчимость в 41.477529 процентов\n",
      "Логарифм общего числа запросов имеет занчимость в 28.455505 процентов\n",
      "Усредненная энтропия номеров имеет занчимость в 14.175819 процентов\n",
      "Рейт по аккаунтам имеет занчимость в 8.082593 процентов\n",
      "Рейт имеет занчимость в 4.864060 процентов\n",
      "Среднее время между запросами имеет занчимость в 2.944494 процентов\n"
     ]
    }
   ],
   "source": [
    "bruteforce_labels = set([2]) #Метки кластеров, в которые попали брутфорсеры\n",
    "all_labels = db_scan.labels_\n",
    "n = len(all_labels)\n",
    "\n",
    "train_y = []\n",
    "for i in xrange(0, n):\n",
    "    if all_labels[i] in bruteforce_labels:\n",
    "        train_y.append(0.0)\n",
    "    else:\n",
    "        train_y.append(1.0)\n",
    "        \n",
    "rf_clf = RandomForestClassifier(n_estimators=100, n_jobs=8)\n",
    "rf_clf.fit(data_set,train_y)\n",
    "\n",
    "feature_importances = sorted(zip(feature_names,rf_clf.feature_importances_),\n",
    "key=lambda x: x[1], reverse=True)\n",
    "\n",
    "for feature, importance in feature_importances:\n",
    "    print \"%s имеет занчимость в %f процентов\" %(feature,100*importance)\n"
   ]
  },
  {
   "cell_type": "markdown",
   "metadata": {
    "deletable": true,
    "editable": true
   },
   "source": [
    "### Конечно, вычислять среднюю энтропию для группы номеров - дело затратное<br>\n",
    "Посмотрим, можно ли ограничиться только средним временем между запросами, рейту и логарифму от общего числа запросов,\n",
    "зная распределение брутфорсеров"
   ]
  },
  {
   "cell_type": "code",
   "execution_count": 118,
   "metadata": {
    "collapsed": true,
    "deletable": true,
    "editable": true
   },
   "outputs": [],
   "source": [
    "new_data_set = np.array(data_set)[:,(1,2,3,4)]"
   ]
  },
  {
   "cell_type": "code",
   "execution_count": 124,
   "metadata": {
    "collapsed": false,
    "deletable": true,
    "editable": true
   },
   "outputs": [
    {
     "name": "stdout",
     "output_type": "stream",
     "text": [
      "Информации, содержащейся в этих данных хватило, чтобы предсказать брутфорс с точностью 100.000000 процентов\n"
     ]
    }
   ],
   "source": [
    "rf_clf.fit(new_data_set,train_y)\n",
    "score = rf_clf.score(new_data_set,train_y)\n",
    "\n",
    "print \"Информации, содержащейся в этих данных хватило, чтобы предсказать брутфорс с точностью %f процентов\"%(score*100)"
   ]
  },
  {
   "cell_type": "code",
   "execution_count": 127,
   "metadata": {
    "collapsed": false,
    "deletable": true,
    "editable": true
   },
   "outputs": [
    {
     "name": "stdout",
     "output_type": "stream",
     "text": [
      "Логарифм общего числа запросов имеет занчимость в 65.285624 процентов\n",
      "Рейт по аккаунтам имеет занчимость в 16.223738 процентов\n",
      "Рейт имеет занчимость в 11.113597 процентов\n",
      "Среднее время между запросами имеет занчимость в 7.377042 процентов\n"
     ]
    }
   ],
   "source": [
    "selected_features = [feature_names[i] for i in [1,2,3,4]]\n",
    "feature_importances = sorted(zip(selected_features,rf_clf.feature_importances_),\n",
    "key=lambda x: x[1], reverse=True)\n",
    "\n",
    "for feature, importance in feature_importances:\n",
    "    print \"%s имеет занчимость в %f процентов\" %(feature,100*importance)"
   ]
  },
  {
   "cell_type": "markdown",
   "metadata": {
    "deletable": true,
    "editable": true
   },
   "source": [
    "### Что дальше ? На основе этих данных можно выделить id пользователей, аккаунты которых могли сбрутить\n",
    "Все просто, - надо посмотреть, в какие аккаунты авторизовывались и нормальные пользователи и брутфорсеры"
   ]
  },
  {
   "cell_type": "code",
   "execution_count": null,
   "metadata": {
    "collapsed": true,
    "deletable": true,
    "editable": true
   },
   "outputs": [],
   "source": []
  }
 ],
 "metadata": {
  "kernelspec": {
   "display_name": "Python 2",
   "language": "python",
   "name": "python2"
  },
  "language_info": {
   "codemirror_mode": {
    "name": "ipython",
    "version": 2
   },
   "file_extension": ".py",
   "mimetype": "text/x-python",
   "name": "python",
   "nbconvert_exporter": "python",
   "pygments_lexer": "ipython2",
   "version": "2.7.6"
  }
 },
 "nbformat": 4,
 "nbformat_minor": 2
}
